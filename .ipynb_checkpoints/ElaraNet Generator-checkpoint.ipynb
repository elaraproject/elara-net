{
 "cells": [
  {
   "cell_type": "markdown",
   "id": "93a88c53",
   "metadata": {},
   "source": [
    "# ElaraNet Generator"
   ]
  },
  {
   "cell_type": "markdown",
   "id": "e847e27f",
   "metadata": {},
   "source": [
    "The standard Alcubierre metric with $v = c = 1$ is given by:"
   ]
  },
  {
   "cell_type": "markdown",
   "id": "91c11012",
   "metadata": {},
   "source": [
    "$$\n",
    "d s^2=-c^2 d t^2+\\left[d x- cf\\left(r_s\\right) d t\\right]^2+d y^2+d z^2\n",
    "$$"
   ]
  },
  {
   "cell_type": "markdown",
   "id": "c208fc04",
   "metadata": {},
   "source": [
    "With its characteristics primarily arising from its shaping function:"
   ]
  },
  {
   "cell_type": "markdown",
   "id": "3ee83605",
   "metadata": {},
   "source": [
    "$$\n",
    "f\\left(r_s\\right)=\\frac{\\tanh \\left(\\sigma\\left(r_s+R\\right)\\right)-\\tanh \\left(\\sigma\\left(r_s-R\\right)\\right)}{2 \\tanh (\\sigma R)}\n",
    "$$"
   ]
  },
  {
   "cell_type": "markdown",
   "id": "089a6150",
   "metadata": {},
   "source": [
    "$$\n",
    "r_s(t) = \\sqrt{(x - x(t))^2 + y^2 + z^2}\n",
    "$$"
   ]
  },
  {
   "cell_type": "markdown",
   "id": "c7973f7b",
   "metadata": {},
   "source": [
    "Solving for the stress-energy tensor yields:"
   ]
  },
  {
   "cell_type": "markdown",
   "id": "41d3c621",
   "metadata": {},
   "source": [
    "$$\n",
    "T^{00}= \\frac{c^4}{8 \\pi G} G^{00} = -\\frac{c^4}{8 \\pi G} \\frac{v_s^2 \\rho^2}{4 r_s^2}\\left(\\frac{d f}{d r_s}\\right)^2\n",
    "$$"
   ]
  },
  {
   "cell_type": "markdown",
   "id": "123d8491",
   "metadata": {},
   "source": [
    "Of which the total negative energy requirement is given by:"
   ]
  },
  {
   "cell_type": "markdown",
   "id": "f8d0d4cc",
   "metadata": {},
   "source": [
    "$$\n",
    "E_\\rho = \\int T^{00} dV\n",
    "$$"
   ]
  },
  {
   "cell_type": "code",
   "execution_count": null,
   "id": "d752a192",
   "metadata": {},
   "outputs": [],
   "source": [
    "import plotly.graph_objects as go\n",
    "import numpy as np\n",
    "from scipy import integrate\n",
    "from tqdm import tqdm"
   ]
  },
  {
   "cell_type": "code",
   "execution_count": null,
   "id": "c16da40d",
   "metadata": {},
   "outputs": [],
   "source": [
    "# Generate input vectors.\n",
    "samples = 320 # 800 for ideal detail\n",
    "x_start = 1.0\n",
    "x_end = 8.0\n",
    "rho_start = -4.0\n",
    "rho_end = 4.0"
   ]
  },
  {
   "cell_type": "code",
   "execution_count": null,
   "id": "2e13056c",
   "metadata": {},
   "outputs": [],
   "source": [
    "x = np.linspace(x_start, x_end, num=samples)\n",
    "p = np.linspace(rho_start, rho_end, num=samples)\n",
    "\n",
    "# Generate coordinate matrices from coordinate vectors.\n",
    "X, P = np.meshgrid(x, p)"
   ]
  },
  {
   "cell_type": "code",
   "execution_count": null,
   "id": "e00639a7",
   "metadata": {},
   "outputs": [],
   "source": [
    "def f_rs(r_s, sigma=8, R=1):\n",
    "    return (np.tanh(sigma * (r_s + R)) - np.tanh(sigma * (r_s - R)))/(2 * np.tanh(sigma * R))"
   ]
  },
  {
   "cell_type": "code",
   "execution_count": null,
   "id": "e1aeb201",
   "metadata": {},
   "outputs": [],
   "source": [
    "def df_rs(r_s, sigma=8, R=1):\n",
    "    return (sigma * (np.tanh(sigma * (R - r_s)) ** 2 - np.tanh(sigma * (R + r_s)) ** 2)) / (2 * np.tanh(sigma * R))"
   ]
  },
  {
   "cell_type": "code",
   "execution_count": null,
   "id": "4d8f71a4",
   "metadata": {},
   "outputs": [],
   "source": [
    "def d_rs(x, rho, x_s=4):\n",
    "    return ((x - x_s)**2 + rho**2)**(1/2)"
   ]
  },
  {
   "cell_type": "code",
   "execution_count": null,
   "id": "ea5dc133",
   "metadata": {},
   "outputs": [],
   "source": [
    "def tophat(x, rho):\n",
    "    return f_rs(np.sqrt(x ** 2 + rho ** 2))"
   ]
  },
  {
   "cell_type": "code",
   "execution_count": null,
   "id": "1eec0dd9",
   "metadata": {},
   "outputs": [],
   "source": [
    "def theta(x, rho, x_s=2.5, v_s=1, sigma=8, R=1):\n",
    "    drs = d_rs(x, rho, x_s)\n",
    "    dfrs = df_rs(drs, sigma, R)\n",
    "    return v_s * ((x - x_s) / drs) * dfrs"
   ]
  },
  {
   "cell_type": "code",
   "execution_count": null,
   "id": "5e497b53",
   "metadata": {},
   "outputs": [],
   "source": [
    "tophat_x = np.linspace(-3.0, 3.0, num=samples)\n",
    "tophat_p = np.linspace(-3.0, 3.0, num=samples)\n",
    "\n",
    "tophat_X, tophat_P = np.meshgrid(tophat_x, tophat_p)\n",
    "tophat_Z = tophat(tophat_X, tophat_P)"
   ]
  },
  {
   "cell_type": "code",
   "execution_count": null,
   "id": "1b06230f",
   "metadata": {},
   "outputs": [],
   "source": [
    "tophat_fig = go.Figure()\n",
    "tophat_fig.add_trace(go.Surface(x=tophat_X, y=tophat_P, z=tophat_Z))\n",
    "tophat_fig.update_layout(title='Shaping function')\n",
    "tophat_fig.update_layout(scene = dict(\n",
    "    xaxis_title=r\"x\",\n",
    "    yaxis_title=r\"ρ\",\n",
    "    zaxis_title=r\"f\"\n",
    "))\n",
    "tophat_fig.show()"
   ]
  },
  {
   "cell_type": "code",
   "execution_count": null,
   "id": "67772c47",
   "metadata": {},
   "outputs": [],
   "source": [
    "Z_th = theta(X, P, x_s=4, R=3, sigma=6)"
   ]
  },
  {
   "cell_type": "code",
   "execution_count": null,
   "id": "39c9e46e",
   "metadata": {},
   "outputs": [],
   "source": [
    "yt_plot = go.Figure()\n",
    "yt_plot.add_trace(go.Surface(z=Z_th, x=X, y=P, colorscale=\"PuBu\"))\n",
    "yt_plot.update_layout(title='York time magnitude', autosize=True)\n",
    "yt_plot.show()"
   ]
  },
  {
   "cell_type": "code",
   "execution_count": null,
   "id": "aa980138",
   "metadata": {},
   "outputs": [],
   "source": [
    "def t00(x, rho, x_s=4, v_s=1, sigma=8, R=1):\n",
    "    c = 2.99792458e8\n",
    "    G = 6.674e-11\n",
    "    r_s = ((x - x_s)**2 + rho**2)**(1/2)\n",
    "    drs = d_rs(x, rho, x_s)\n",
    "    dfrs = df_rs(drs, sigma, R)\n",
    "    return (-(c ** 4)/(8 * np.pi * G)) * ((v_s ** 2 * rho ** 2)/(4 * r_s ** 2)) * ((dfrs / drs) ** 2)"
   ]
  },
  {
   "cell_type": "code",
   "execution_count": null,
   "id": "d74d0c79",
   "metadata": {},
   "outputs": [],
   "source": [
    "Z = t00(X, P, sigma=6)\n",
    "fig = go.Figure(data=[go.Surface(z=-Z, x=X, y=P)])\n",
    "fig.update_layout(title='Absolute value of energy density', autosize=True)\n",
    "\n",
    "fig.show()"
   ]
  },
  {
   "cell_type": "code",
   "execution_count": null,
   "id": "434c6742",
   "metadata": {},
   "outputs": [],
   "source": [
    "# Varying sigma from 0-100 for dataset\n",
    "samples = 2000\n",
    "\n",
    "def int_t00(i, start_sigma=1, max_sigma=20):\n",
    "    sigma = start_sigma + (i / max_sigma)\n",
    "    args = (4, 1, sigma, 1) # x_s, v_s, sigma, R\n",
    "    negative_density = integrate.nquad(t00, [\n",
    "        [x_start, x_end], [rho_start, rho_end]], args=args)\n",
    "    return [sigma, negative_density[0]]\n",
    "\n",
    "sigma_data = []\n",
    "t00_data = []\n",
    "for i in tqdm(range(samples)):\n",
    "    total_t00 = int_t00(i)\n",
    "    sigma_data.append(total_t00[0])\n",
    "    t00_data.append(total_t00[1])"
   ]
  },
  {
   "cell_type": "code",
   "execution_count": null,
   "id": "64d63bf4",
   "metadata": {},
   "outputs": [],
   "source": [
    "total_t00_data = np.array([sigma_data, t00_data])\n",
    "np.savetxt(\"sigma_data.csv\", total_t00_data)"
   ]
  }
 ],
 "metadata": {
  "kernelspec": {
   "display_name": "Python 3 (ipykernel)",
   "language": "python",
   "name": "python3"
  },
  "language_info": {
   "codemirror_mode": {
    "name": "ipython",
    "version": 3
   },
   "file_extension": ".py",
   "mimetype": "text/x-python",
   "name": "python",
   "nbconvert_exporter": "python",
   "pygments_lexer": "ipython3",
   "version": "3.10.6"
  }
 },
 "nbformat": 4,
 "nbformat_minor": 5
}
